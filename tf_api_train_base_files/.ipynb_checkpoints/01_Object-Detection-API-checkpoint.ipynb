{
 "cells": [
  {
   "cell_type": "markdown",
   "metadata": {},
   "source": [
    "# Object detection API で学習（くずし字コンペで使ったのをベースにしてる）\n",
    "- 自宅PC tfgpu_v1-11環境\n",
    "\n",
    "\n",
    "- faster-RCNN+InceptionResnet\n",
    "\n",
    "\n",
    "- validation dataなしでクラスは一種類だけにして領域検出だけにする\n",
    "\n",
    "\n",
    "- 参考\n",
    "    - https://horomary.hatenablog.com/entry/2018/11/26/214048\n",
    "    - https://github.com/EdjeElectronics/TensorFlow-Object-Detection-API-Tutorial-Train-Multiple-Objects-Windows-10\n",
    "    - https://tensorflow-object-detection-api-tutorial.readthedocs.io/en/latest/training.html"
   ]
  },
  {
   "cell_type": "code",
   "execution_count": 1,
   "metadata": {},
   "outputs": [
    {
     "data": {
      "text/html": [
       "<style>.container { width:96% !important; }</style>"
      ],
      "text/plain": [
       "<IPython.core.display.HTML object>"
      ]
     },
     "metadata": {},
     "output_type": "display_data"
    }
   ],
   "source": [
    "# importしている別ファイルモジュールを自動でリロード\n",
    "# https://qiita.com/ishizakiiii/items/b98bbf8997f039f40058\n",
    "%reload_ext autoreload\n",
    "%autoreload 2\n",
    "%matplotlib inline\n",
    "\n",
    "from IPython.core.display import display, HTML\n",
    "display(HTML(\"<style>.container { width:96% !important; }</style>\"))# デフォルトは75%\n",
    "\n",
    "import os, sys\n",
    "import pandas as pd\n",
    "\n",
    "# 自作モジュール\n",
    "sys.path.append(r'C:\\Users\\shingo\\jupyter_notebook\\tfgpu_v1-11_work\\01_TF_API_tool_module')\n",
    "from tf_api_tool_module import prepare_anno_csv, generate_tfrecord, prepare_label_map\n",
    "\n",
    "# 出力先dir\n",
    "output_dir = 'PATH_TO_BE_CONFIGURED'\n",
    "os.makedirs(output_dir, exist_ok=True)\n",
    "\n",
    "# 画像ファイルのパス取得\n",
    "orig_dir = 'IMAGE_DIR'"
   ]
  },
  {
   "cell_type": "markdown",
   "metadata": {},
   "source": [
    "# 正解の座標（x1\ty1\tx2\ty2\tlabel_id\tfile_name）一覧のcsvファイル作成"
   ]
  },
  {
   "cell_type": "code",
   "execution_count": 1,
   "metadata": {
    "scrolled": false
   },
   "outputs": [
    {
     "name": "stdout",
     "output_type": "stream",
     "text": [
      "TRAIN:  (3881, 2)\n",
      "Drop NoLabel TRAIN:  (3605, 4)\n"
     ]
    },
    {
     "data": {
      "text/html": [
       "<div>\n",
       "<style scoped>\n",
       "    .dataframe tbody tr th:only-of-type {\n",
       "        vertical-align: middle;\n",
       "    }\n",
       "\n",
       "    .dataframe tbody tr th {\n",
       "        vertical-align: top;\n",
       "    }\n",
       "\n",
       "    .dataframe thead th {\n",
       "        text-align: right;\n",
       "    }\n",
       "</style>\n",
       "<table border=\"1\" class=\"dataframe\">\n",
       "  <thead>\n",
       "    <tr style=\"text-align: right;\">\n",
       "      <th></th>\n",
       "      <th>image_id</th>\n",
       "      <th>labels</th>\n",
       "      <th>chars</th>\n",
       "      <th>n_chars</th>\n",
       "    </tr>\n",
       "  </thead>\n",
       "  <tbody>\n",
       "    <tr>\n",
       "      <th>0</th>\n",
       "      <td>100241706_00004_2</td>\n",
       "      <td>U+306F 1231 3465 133 53 U+304C 275 1652 84 69 ...</td>\n",
       "      <td>U+306F U+304C U+3044 U+3051 U+306B U+306B U+30...</td>\n",
       "      <td>67.0</td>\n",
       "    </tr>\n",
       "    <tr>\n",
       "      <th>1</th>\n",
       "      <td>100241706_00005_1</td>\n",
       "      <td>U+306F 1087 2018 103 65 U+304B 1456 1832 40 73...</td>\n",
       "      <td>U+306F U+304B U+304B U+3044 U+306B U+306B U+30...</td>\n",
       "      <td>80.0</td>\n",
       "    </tr>\n",
       "    <tr>\n",
       "      <th>2</th>\n",
       "      <td>100241706_00005_2</td>\n",
       "      <td>U+306F 572 1376 125 57 U+306E 1551 2080 69 68 ...</td>\n",
       "      <td>U+306F U+306E U+3078 U+304C U+306B U+3081 U+30...</td>\n",
       "      <td>78.0</td>\n",
       "    </tr>\n",
       "    <tr>\n",
       "      <th>3</th>\n",
       "      <td>100241706_00006_1</td>\n",
       "      <td>U+3082 1455 3009 65 44 U+516B 1654 1528 141 75...</td>\n",
       "      <td>U+3082 U+516B U+309E U+306B U+308B U+304B U+30...</td>\n",
       "      <td>72.0</td>\n",
       "    </tr>\n",
       "    <tr>\n",
       "      <th>4</th>\n",
       "      <td>100241706_00007_2</td>\n",
       "      <td>U+309D 1201 2949 27 33 U+309D 1196 1539 27 36 ...</td>\n",
       "      <td>U+309D U+309D U+309D U+309D U+3078 U+309D U+25...</td>\n",
       "      <td>167.0</td>\n",
       "    </tr>\n",
       "  </tbody>\n",
       "</table>\n",
       "</div>"
      ],
      "text/plain": [
       "            image_id                                             labels  \\\n",
       "0  100241706_00004_2  U+306F 1231 3465 133 53 U+304C 275 1652 84 69 ...   \n",
       "1  100241706_00005_1  U+306F 1087 2018 103 65 U+304B 1456 1832 40 73...   \n",
       "2  100241706_00005_2  U+306F 572 1376 125 57 U+306E 1551 2080 69 68 ...   \n",
       "3  100241706_00006_1  U+3082 1455 3009 65 44 U+516B 1654 1528 141 75...   \n",
       "4  100241706_00007_2  U+309D 1201 2949 27 33 U+309D 1196 1539 27 36 ...   \n",
       "\n",
       "                                               chars  n_chars  \n",
       "0  U+306F U+304C U+3044 U+3051 U+306B U+306B U+30...     67.0  \n",
       "1  U+306F U+304B U+304B U+3044 U+306B U+306B U+30...     80.0  \n",
       "2  U+306F U+306E U+3078 U+304C U+306B U+3081 U+30...     78.0  \n",
       "3  U+3082 U+516B U+309E U+306B U+308B U+304B U+30...     72.0  \n",
       "4  U+309D U+309D U+309D U+309D U+3078 U+309D U+25...    167.0  "
      ]
     },
     "metadata": {},
     "output_type": "display_data"
    },
    {
     "name": "stdout",
     "output_type": "stream",
     "text": [
      " >> Chars dataframe <<\n",
      "Number of chars:  4212\n"
     ]
    },
    {
     "data": {
      "text/html": [
       "<div>\n",
       "<style scoped>\n",
       "    .dataframe tbody tr th:only-of-type {\n",
       "        vertical-align: middle;\n",
       "    }\n",
       "\n",
       "    .dataframe tbody tr th {\n",
       "        vertical-align: top;\n",
       "    }\n",
       "\n",
       "    .dataframe thead th {\n",
       "        text-align: right;\n",
       "    }\n",
       "</style>\n",
       "<table border=\"1\" class=\"dataframe\">\n",
       "  <thead>\n",
       "    <tr style=\"text-align: right;\">\n",
       "      <th></th>\n",
       "      <th>char</th>\n",
       "      <th>count</th>\n",
       "      <th>jp_char</th>\n",
       "    </tr>\n",
       "  </thead>\n",
       "  <tbody>\n",
       "    <tr>\n",
       "      <th>0</th>\n",
       "      <td>U+306F</td>\n",
       "      <td>14759</td>\n",
       "      <td>は</td>\n",
       "    </tr>\n",
       "    <tr>\n",
       "      <th>1</th>\n",
       "      <td>U+304C</td>\n",
       "      <td>6740</td>\n",
       "      <td>が</td>\n",
       "    </tr>\n",
       "    <tr>\n",
       "      <th>2</th>\n",
       "      <td>U+3044</td>\n",
       "      <td>11903</td>\n",
       "      <td>い</td>\n",
       "    </tr>\n",
       "    <tr>\n",
       "      <th>3</th>\n",
       "      <td>U+3051</td>\n",
       "      <td>4224</td>\n",
       "      <td>け</td>\n",
       "    </tr>\n",
       "    <tr>\n",
       "      <th>4</th>\n",
       "      <td>U+306B</td>\n",
       "      <td>24685</td>\n",
       "      <td>に</td>\n",
       "    </tr>\n",
       "  </tbody>\n",
       "</table>\n",
       "</div>"
      ],
      "text/plain": [
       "     char  count jp_char\n",
       "0  U+306F  14759       は\n",
       "1  U+304C   6740       が\n",
       "2  U+3044  11903       い\n",
       "3  U+3051   4224       け\n",
       "4  U+306B  24685       に"
      ]
     },
     "metadata": {},
     "output_type": "display_data"
    }
   ],
   "source": [
    "import pandas as pd\n",
    "import numpy as np\n",
    "from tqdm import tqdm_notebook as tqdm\n",
    "\n",
    "PATH = r'D:\\work\\kaggle_kuzushiji-recognition\\OrigData\\kuzushiji-recognition/'\n",
    "df_train = pd.read_csv(PATH+'train.csv')\n",
    "unicode_map = {codepoint: char for codepoint, char in pd.read_csv(PATH+'unicode_translation.csv').values}\n",
    "print (\"TRAIN: \", df_train.shape)\n",
    "#display(df_train.head())\n",
    "\n",
    "# 276画像にはラベルがありません、dropnaを使ってドロップします\n",
    "chars = {}\n",
    "for i in range (df_train.shape[0]):\n",
    "    try:\n",
    "        a = [x for x in df_train.labels.values[i].split(' ') if x.startswith('U')]\n",
    "        n_a = int(len(a))        \n",
    "        for j in a:\n",
    "            if j not in chars: chars[j]=1\n",
    "            else:\n",
    "                chars[j]+=1\n",
    "                \n",
    "        a = \" \".join(a)\n",
    "        \n",
    "    except AttributeError:\n",
    "        a = None\n",
    "        n_a = 0\n",
    "        \n",
    "    df_train.loc[i,'chars'] = a\n",
    "    df_train.loc[i,'n_chars'] = n_a\n",
    "\n",
    "df_train = df_train[df_train['n_chars']!=0.0]\n",
    "print (\"Drop NoLabel TRAIN: \", df_train.shape)\n",
    "display(df_train.head())\n",
    "\n",
    "chars = pd.DataFrame(list(chars.items()), columns=['char', 'count'])\n",
    "chars['jp_char'] = chars['char'].map(unicode_map)\n",
    "print (\" >> Chars dataframe <<\")\n",
    "print (\"Number of chars: \",chars.shape[0])\n",
    "chars.to_csv(\"chars_freq.csv\",index=False)\n",
    "display(chars.head())"
   ]
  },
  {
   "cell_type": "markdown",
   "metadata": {},
   "source": [
    "### 画像の枚数が多い+1枚に存在する文字が多い(2-600ぐらい)せいか、欠損なしtarin画像全件(3605枚)だとtfファイルが2日待っても作成できなかった\n",
    "### n_charaが多いtop100の画像だけをtrain setにしても1枚にすると、数文字しか無い画像の文字は検出できないと思うので、ランダムに取り出した360枚（全画像の1/10）をtrain setにしてみる"
   ]
  },
  {
   "cell_type": "code",
   "execution_count": 2,
   "metadata": {
    "scrolled": true
   },
   "outputs": [
    {
     "name": "stdout",
     "output_type": "stream",
     "text": [
      "rand_index:\n",
      " [1326, 617, 1617, 2666, 197, 296, 3363, 2194, 385, 1497, 2387, 237, 2078, 879, 153, 352, 1776, 1712, 286, 985, 371, 2257, 1738, 242, 3386, 2316, 507, 914, 2583, 2569, 3594, 253, 2363, 2398, 1624, 203, 905, 190, 2280, 3516, 545, 1186, 1716, 590, 2214, 482, 2338, 1263, 2294, 3342, 2793, 740, 422, 2382, 2339, 2616, 769, 1525, 399, 2243, 2916, 257, 2311, 244, 2535, 843, 2033, 2786, 2177, 1751, 3183, 1286, 1907, 3571, 1856, 1481, 1227, 1017, 3253, 736, 2863, 3194, 999, 335, 2352, 1229, 2151, 2027, 1406, 2987, 1838, 1179, 2494, 299, 483, 2096, 3587, 675, 3101, 1401, 622, 2002, 1727, 160, 2737, 317, 3131, 2285, 2347, 3232, 3351, 1285, 1393, 2847, 1434, 2434, 2034, 2375, 3264, 1868, 281, 3440, 383, 1105, 1941, 2855, 2720, 266, 248, 2994, 2873, 1268, 2650, 2367, 2790, 3366, 1825, 1165, 2935, 1580, 2738, 1421, 92, 1891, 1455, 688, 2502, 479, 2022, 241, 893, 3146, 1177, 529, 3024, 1014, 1629, 1601, 3538, 330, 681, 1839, 1645, 2250, 1138, 560, 3355, 1763, 2253, 1140, 2893, 1701, 1469, 2796, 1558, 945, 618, 339, 721, 619, 950, 2697, 955, 49, 1986, 3404, 2413, 746, 1076, 1154, 16, 596, 3562, 2189, 1512, 2497, 2319, 1305, 514, 2828, 2111, 2529, 2682, 2769, 3030, 221, 1870, 3523, 2787, 3268, 2290, 1607, 1630, 1634, 1614, 424, 1972, 2598, 1640, 254, 780, 275, 855, 1804, 664, 450, 1392, 2460, 215, 419, 0, 2321, 3425, 2197, 415, 1489, 2513, 104, 288, 851, 2515, 1541, 608, 3387, 1033, 1422, 2466, 1491, 1942, 503, 472, 1999, 1908, 1967, 1981, 1277, 351, 3561, 418, 3070, 1403, 3032, 1084, 1960, 2834, 661, 2114, 94, 840, 2163, 3529, 600, 2826, 2224, 110, 3105, 3335, 1220, 2633, 372, 2851, 1069, 2123, 1502, 684, 1456, 3161, 912, 2181, 2218, 3191, 2059, 1350, 2606, 913, 2511, 3229, 3106, 799, 3301, 980, 1641, 3400, 3290, 928, 818, 2120, 2018, 3319, 3475, 118, 114, 3236, 1144, 1934, 1061, 793, 2836, 2478, 1410, 1831, 2961, 1431, 1493, 329, 903, 3346, 929, 1925, 805, 1383, 837, 1976, 2556, 2499, 7, 1963, 2674, 1409, 2634, 347, 2705, 491, 1591, 3204, 2914, 3072, 816, 1958, 731, 1777, 3495, 2604, 1361, 355, 2956, 1621, 1897, 1644, 3044]\n",
      "(360, 4)\n"
     ]
    },
    {
     "data": {
      "text/html": [
       "<div>\n",
       "<style scoped>\n",
       "    .dataframe tbody tr th:only-of-type {\n",
       "        vertical-align: middle;\n",
       "    }\n",
       "\n",
       "    .dataframe tbody tr th {\n",
       "        vertical-align: top;\n",
       "    }\n",
       "\n",
       "    .dataframe thead th {\n",
       "        text-align: right;\n",
       "    }\n",
       "</style>\n",
       "<table border=\"1\" class=\"dataframe\">\n",
       "  <thead>\n",
       "    <tr style=\"text-align: right;\">\n",
       "      <th></th>\n",
       "      <th>image_id</th>\n",
       "      <th>labels</th>\n",
       "      <th>chars</th>\n",
       "      <th>n_chars</th>\n",
       "    </tr>\n",
       "  </thead>\n",
       "  <tbody>\n",
       "    <tr>\n",
       "      <th>1501</th>\n",
       "      <td>200015779_00024_2</td>\n",
       "      <td>U+304F 601 2905 27 35 U+3044 516 2763 52 36 U+...</td>\n",
       "      <td>U+304F U+3044 U+30CF U+30F3 U+30F3 U+30FD U+30...</td>\n",
       "      <td>236.0</td>\n",
       "    </tr>\n",
       "    <tr>\n",
       "      <th>686</th>\n",
       "      <td>200003076_00078_1</td>\n",
       "      <td>U+306F 798 2934 47 33 U+306F 770 1768 46 34 U+...</td>\n",
       "      <td>U+306F U+306F U+306F U+306F U+306F U+308B U+30...</td>\n",
       "      <td>228.0</td>\n",
       "    </tr>\n",
       "    <tr>\n",
       "      <th>1803</th>\n",
       "      <td>200021644_00014_2</td>\n",
       "      <td>U+4E00 1162 1084 89 21 U+4E00 1010 1011 81 25 ...</td>\n",
       "      <td>U+4E00 U+4E00 U+4E00 U+4E00 U+306F U+3078 U+30...</td>\n",
       "      <td>196.0</td>\n",
       "    </tr>\n",
       "    <tr>\n",
       "      <th>2897</th>\n",
       "      <td>hnsd001-030</td>\n",
       "      <td>U+30FD 1312 1261 31 33 U+309D 735 1941 37 45 U...</td>\n",
       "      <td>U+30FD U+309D U+30A2 U+30E8 U+306F U+304C U+30...</td>\n",
       "      <td>173.0</td>\n",
       "    </tr>\n",
       "    <tr>\n",
       "      <th>209</th>\n",
       "      <td>100249376_00038_1</td>\n",
       "      <td>U+4E03 381 764 69 33 U+5341 380 795 76 36 U+30...</td>\n",
       "      <td>U+4E03 U+5341 U+306F U+4E94 U+306F U+304B U+50...</td>\n",
       "      <td>120.0</td>\n",
       "    </tr>\n",
       "  </tbody>\n",
       "</table>\n",
       "</div>"
      ],
      "text/plain": [
       "               image_id                                             labels  \\\n",
       "1501  200015779_00024_2  U+304F 601 2905 27 35 U+3044 516 2763 52 36 U+...   \n",
       "686   200003076_00078_1  U+306F 798 2934 47 33 U+306F 770 1768 46 34 U+...   \n",
       "1803  200021644_00014_2  U+4E00 1162 1084 89 21 U+4E00 1010 1011 81 25 ...   \n",
       "2897        hnsd001-030  U+30FD 1312 1261 31 33 U+309D 735 1941 37 45 U...   \n",
       "209   100249376_00038_1  U+4E03 381 764 69 33 U+5341 380 795 76 36 U+30...   \n",
       "\n",
       "                                                  chars  n_chars  \n",
       "1501  U+304F U+3044 U+30CF U+30F3 U+30F3 U+30FD U+30...    236.0  \n",
       "686   U+306F U+306F U+306F U+306F U+306F U+308B U+30...    228.0  \n",
       "1803  U+4E00 U+4E00 U+4E00 U+4E00 U+306F U+3078 U+30...    196.0  \n",
       "2897  U+30FD U+309D U+30A2 U+30E8 U+306F U+304C U+30...    173.0  \n",
       "209   U+4E03 U+5341 U+306F U+4E94 U+306F U+304B U+50...    120.0  "
      ]
     },
     "metadata": {},
     "output_type": "display_data"
    }
   ],
   "source": [
    "import numpy as np\n",
    "import random\n",
    "\n",
    "# 乱数固定\n",
    "np.random.seed(7)\n",
    "random.seed(7)\n",
    "\n",
    "rand_index = random.sample(range(df_train.shape[0]), k=df_train.shape[0]//10)\n",
    "print('rand_index:\\n', rand_index)\n",
    "\n",
    "df_train_rand = df_train.iloc[rand_index]\n",
    "print(df_train_rand.shape)\n",
    "display(df_train_rand.head())\n",
    "\n",
    "df_train = df_train_rand"
   ]
  },
  {
   "cell_type": "markdown",
   "metadata": {},
   "source": [
    "# anno_df.tsv 作成\n",
    "- output_dir で anno_df.tsv の出力先指定する"
   ]
  },
  {
   "cell_type": "code",
   "execution_count": 3,
   "metadata": {},
   "outputs": [],
   "source": [
    "def conv_df_label_for_one_img(df_series):\n",
    "    \"\"\" df_trainの1行（1画像）のラベル情報をデータフレームに変換する \"\"\"\n",
    "    img, labels ,_,_ = df_series\n",
    "    labels = np.array(labels.split(' ')).reshape(-1, 5)\n",
    "\n",
    "    file_name = img+'.jpg'\n",
    "    #print(file_name, labels)\n",
    "\n",
    "    #col_name = ['Unicode', 'X', 'Y', 'Width', 'Height']# もともとのラベル情報\n",
    "    #df_label = pd.DataFrame(columns=col_name)\n",
    "    \n",
    "    re_col_name = ['x1', 'y1', 'x2', 'y2', 'label_id', 'file_name']# x1\ty1\tx2\ty2\tlabel_id\tfile_name\n",
    "    df_re_label = pd.DataFrame(columns=re_col_name)\n",
    "\n",
    "    for codepoint, x, y, w, h in labels:\n",
    "        #series = pd.Series([codepoint, x, y, w, h], index=col_name)\n",
    "        #df_label = df_label.append(series, ignore_index=True)\n",
    "        \n",
    "        re_series = pd.Series([x, y, int(x)+int(w), int(y)+int(h), codepoint, file_name], index=re_col_name)\n",
    "        df_re_label = df_re_label.append(re_series, ignore_index=True)\n",
    "\n",
    "    #return df_label\n",
    "    return df_re_label"
   ]
  },
  {
   "cell_type": "code",
   "execution_count": 4,
   "metadata": {
    "scrolled": true
   },
   "outputs": [
    {
     "data": {
      "application/vnd.jupyter.widget-view+json": {
       "model_id": "b2c0936d8651465ca396acc292953ab6",
       "version_major": 2,
       "version_minor": 0
      },
      "text/plain": [
       "HBox(children=(IntProgress(value=0, max=360), HTML(value='')))"
      ]
     },
     "metadata": {},
     "output_type": "display_data"
    },
    {
     "name": "stdout",
     "output_type": "stream",
     "text": [
      "\n",
      "(66457, 6)\n",
      "unique file_name 360\n"
     ]
    },
    {
     "data": {
      "text/html": [
       "<div>\n",
       "<style scoped>\n",
       "    .dataframe tbody tr th:only-of-type {\n",
       "        vertical-align: middle;\n",
       "    }\n",
       "\n",
       "    .dataframe tbody tr th {\n",
       "        vertical-align: top;\n",
       "    }\n",
       "\n",
       "    .dataframe thead th {\n",
       "        text-align: right;\n",
       "    }\n",
       "</style>\n",
       "<table border=\"1\" class=\"dataframe\">\n",
       "  <thead>\n",
       "    <tr style=\"text-align: right;\">\n",
       "      <th></th>\n",
       "      <th>x1</th>\n",
       "      <th>y1</th>\n",
       "      <th>x2</th>\n",
       "      <th>y2</th>\n",
       "      <th>label_id</th>\n",
       "      <th>file_name</th>\n",
       "    </tr>\n",
       "  </thead>\n",
       "  <tbody>\n",
       "    <tr>\n",
       "      <th>191</th>\n",
       "      <td>1050</td>\n",
       "      <td>2281</td>\n",
       "      <td>1133</td>\n",
       "      <td>2410</td>\n",
       "      <td>U+839E</td>\n",
       "      <td>hnsd010-032.jpg</td>\n",
       "    </tr>\n",
       "    <tr>\n",
       "      <th>192</th>\n",
       "      <td>499</td>\n",
       "      <td>2209</td>\n",
       "      <td>525</td>\n",
       "      <td>2341</td>\n",
       "      <td>U+3057</td>\n",
       "      <td>hnsd010-032.jpg</td>\n",
       "    </tr>\n",
       "    <tr>\n",
       "      <th>193</th>\n",
       "      <td>1041</td>\n",
       "      <td>1731</td>\n",
       "      <td>1104</td>\n",
       "      <td>1864</td>\n",
       "      <td>U+5176</td>\n",
       "      <td>hnsd010-032.jpg</td>\n",
       "    </tr>\n",
       "    <tr>\n",
       "      <th>194</th>\n",
       "      <td>1234</td>\n",
       "      <td>2044</td>\n",
       "      <td>1318</td>\n",
       "      <td>2182</td>\n",
       "      <td>U+7B97</td>\n",
       "      <td>hnsd010-032.jpg</td>\n",
       "    </tr>\n",
       "    <tr>\n",
       "      <th>195</th>\n",
       "      <td>454</td>\n",
       "      <td>306</td>\n",
       "      <td>533</td>\n",
       "      <td>445</td>\n",
       "      <td>U+5BC4</td>\n",
       "      <td>hnsd010-032.jpg</td>\n",
       "    </tr>\n",
       "  </tbody>\n",
       "</table>\n",
       "</div>"
      ],
      "text/plain": [
       "       x1    y1    x2    y2 label_id        file_name\n",
       "191  1050  2281  1133  2410   U+839E  hnsd010-032.jpg\n",
       "192   499  2209   525  2341   U+3057  hnsd010-032.jpg\n",
       "193  1041  1731  1104  1864   U+5176  hnsd010-032.jpg\n",
       "194  1234  2044  1318  2182   U+7B97  hnsd010-032.jpg\n",
       "195   454   306   533   445   U+5BC4  hnsd010-032.jpg"
      ]
     },
     "metadata": {},
     "output_type": "display_data"
    },
    {
     "name": "stdout",
     "output_type": "stream",
     "text": [
      "Wall time: 2min 32s\n"
     ]
    }
   ],
   "source": [
    "%%time\n",
    "df_label_all = None\n",
    "for index in tqdm(range(df_train.shape[0])): \n",
    "    df_re_label = conv_df_label_for_one_img(df_train.values[index])\n",
    "    #display(df_label)\n",
    "    #display(df_re_label)\n",
    "    if df_label_all is None:\n",
    "        df_label_all = df_re_label\n",
    "    else:\n",
    "        df_label_all = df_label_all.append(df_re_label)\n",
    "\n",
    "print(df_label_all.shape)\n",
    "print('unique file_name', len(df_label_all['file_name'].unique()))\n",
    "display(df_label_all.tail())\n",
    "\n",
    "df_label_all.to_csv(os.path.join(output_dir, 'anno_df.tsv'), sep='\\t', index=False)"
   ]
  },
  {
   "cell_type": "markdown",
   "metadata": {},
   "source": [
    "# Object-Detection-API\n",
    "\n",
    "## 各ファイルのフォルダパスを指定する\n",
    "- output_dir で出力先指定する\n",
    "- anno_df_path で anno_df.tsv の出力先指定する\n",
    "- xywh_train_csv_path で xywh_train.csv の出力先指定する"
   ]
  },
  {
   "cell_type": "code",
   "execution_count": 5,
   "metadata": {
    "scrolled": true
   },
   "outputs": [
    {
     "name": "stdout",
     "output_type": "stream",
     "text": [
      "D:\\work\\kaggle_kuzushiji-recognition\\OrigData\\kuzushiji-recognition\\train_images\n"
     ]
    }
   ],
   "source": [
    "# 正解の座標（x1\ty1\tx2\ty2\tlabel_id\tfile_name）一覧のcsvファイル\n",
    "anno_df_path = os.path.join(output_dir, 'anno_df.tsv')\n",
    "xywh_train_csv_path = os.path.join(output_dir, 'xywh_train.csv')\n",
    "#xywh_valid_csv_path = os.path.join(output_dir, 'xywh_valid.csv')\n",
    "\n",
    "# 画像ディレクトリ\n",
    "train_img_dir = os.path.join(orig_dir)\n",
    "print(train_img_dir)\n",
    "#valid_img_dir = os.path.join(orig_dir, 'valid_images')"
   ]
  },
  {
   "cell_type": "markdown",
   "metadata": {},
   "source": [
    "## TFrecordの作成\n",
    "### TFrecord 作るために必要なクラスidとクラスidの対応ファイルclasses_text.csv 作成\n",
    "- **クラス名は半角英数字しかだめ**"
   ]
  },
  {
   "cell_type": "code",
   "execution_count": 6,
   "metadata": {},
   "outputs": [
    {
     "data": {
      "text/html": [
       "<div>\n",
       "<style scoped>\n",
       "    .dataframe tbody tr th:only-of-type {\n",
       "        vertical-align: middle;\n",
       "    }\n",
       "\n",
       "    .dataframe tbody tr th {\n",
       "        vertical-align: top;\n",
       "    }\n",
       "\n",
       "    .dataframe thead th {\n",
       "        text-align: right;\n",
       "    }\n",
       "</style>\n",
       "<table border=\"1\" class=\"dataframe\">\n",
       "  <thead>\n",
       "    <tr style=\"text-align: right;\">\n",
       "      <th></th>\n",
       "      <th>id</th>\n",
       "      <th>name</th>\n",
       "    </tr>\n",
       "  </thead>\n",
       "  <tbody>\n",
       "    <tr>\n",
       "      <th>0</th>\n",
       "      <td>1</td>\n",
       "      <td>1</td>\n",
       "    </tr>\n",
       "  </tbody>\n",
       "</table>\n",
       "</div>"
      ],
      "text/plain": [
       "   id  name\n",
       "0   1     1"
      ]
     },
     "metadata": {},
     "output_type": "display_data"
    }
   ],
   "source": [
    "classes_text_df = pd.DataFrame({'id': [1], 'name': [1]})\n",
    "display(classes_text_df)\n",
    "# ファイル出力\n",
    "classes_text_df.to_csv(os.path.join(output_dir, 'classes_text.csv'), sep=',', header=True, index=False)"
   ]
  },
  {
   "cell_type": "markdown",
   "metadata": {},
   "source": [
    "### TFrecord 作るためのアノテーションcsv作成"
   ]
  },
  {
   "cell_type": "code",
   "execution_count": 7,
   "metadata": {},
   "outputs": [
    {
     "data": {
      "text/html": [
       "<div>\n",
       "<style scoped>\n",
       "    .dataframe tbody tr th:only-of-type {\n",
       "        vertical-align: middle;\n",
       "    }\n",
       "\n",
       "    .dataframe tbody tr th {\n",
       "        vertical-align: top;\n",
       "    }\n",
       "\n",
       "    .dataframe thead th {\n",
       "        text-align: right;\n",
       "    }\n",
       "</style>\n",
       "<table border=\"1\" class=\"dataframe\">\n",
       "  <thead>\n",
       "    <tr style=\"text-align: right;\">\n",
       "      <th></th>\n",
       "      <th>x1</th>\n",
       "      <th>y1</th>\n",
       "      <th>x2</th>\n",
       "      <th>y2</th>\n",
       "      <th>label_id</th>\n",
       "      <th>file_name</th>\n",
       "    </tr>\n",
       "  </thead>\n",
       "  <tbody>\n",
       "    <tr>\n",
       "      <th>0</th>\n",
       "      <td>601</td>\n",
       "      <td>2905</td>\n",
       "      <td>628</td>\n",
       "      <td>2940</td>\n",
       "      <td>U+304F</td>\n",
       "      <td>200015779_00024_2.jpg</td>\n",
       "    </tr>\n",
       "    <tr>\n",
       "      <th>1</th>\n",
       "      <td>516</td>\n",
       "      <td>2763</td>\n",
       "      <td>568</td>\n",
       "      <td>2799</td>\n",
       "      <td>U+3044</td>\n",
       "      <td>200015779_00024_2.jpg</td>\n",
       "    </tr>\n",
       "    <tr>\n",
       "      <th>2</th>\n",
       "      <td>1418</td>\n",
       "      <td>1537</td>\n",
       "      <td>1481</td>\n",
       "      <td>1574</td>\n",
       "      <td>U+30CF</td>\n",
       "      <td>200015779_00024_2.jpg</td>\n",
       "    </tr>\n",
       "    <tr>\n",
       "      <th>3</th>\n",
       "      <td>1839</td>\n",
       "      <td>2083</td>\n",
       "      <td>1907</td>\n",
       "      <td>2120</td>\n",
       "      <td>U+30F3</td>\n",
       "      <td>200015779_00024_2.jpg</td>\n",
       "    </tr>\n",
       "    <tr>\n",
       "      <th>4</th>\n",
       "      <td>1848</td>\n",
       "      <td>2804</td>\n",
       "      <td>1927</td>\n",
       "      <td>2842</td>\n",
       "      <td>U+30F3</td>\n",
       "      <td>200015779_00024_2.jpg</td>\n",
       "    </tr>\n",
       "  </tbody>\n",
       "</table>\n",
       "</div>"
      ],
      "text/plain": [
       "     x1    y1    x2    y2 label_id              file_name\n",
       "0   601  2905   628  2940   U+304F  200015779_00024_2.jpg\n",
       "1   516  2763   568  2799   U+3044  200015779_00024_2.jpg\n",
       "2  1418  1537  1481  1574   U+30CF  200015779_00024_2.jpg\n",
       "3  1839  2083  1907  2120   U+30F3  200015779_00024_2.jpg\n",
       "4  1848  2804  1927  2842   U+30F3  200015779_00024_2.jpg"
      ]
     },
     "execution_count": 7,
     "metadata": {},
     "output_type": "execute_result"
    }
   ],
   "source": [
    "anno_df = pd.read_csv(anno_df_path, sep='\\t')\n",
    "anno_df.head()"
   ]
  },
  {
   "cell_type": "code",
   "execution_count": 8,
   "metadata": {
    "scrolled": true
   },
   "outputs": [
    {
     "name": "stdout",
     "output_type": "stream",
     "text": [
      "anno_df\n",
      "    xmin  ymin  xmax  ymax   class               filename\n",
      "0   601  2905   628  2940  U+304F  200015779_00024_2.jpg\n",
      "1   516  2763   568  2799  U+3044  200015779_00024_2.jpg\n",
      "2  1418  1537  1481  1574  U+30CF  200015779_00024_2.jpg\n",
      "3  1839  2083  1907  2120  U+30F3  200015779_00024_2.jpg\n",
      "4  1848  2804  1927  2842  U+30F3  200015779_00024_2.jpg\n",
      "\n",
      "anno_df.shape (66457, 8)\n",
      "D:\\work\\kaggle_kuzushiji-recognition\\work\\object_detection\\20190728\\xywh_train.csv\n",
      "                 filename  width  height class  xmin  ymin  xmax  ymax\n",
      "0  200015779_00024_2.jpg   2168    3286     1   601  2905   628  2940\n",
      "1  200015779_00024_2.jpg   2168    3286     1   516  2763   568  2799\n",
      "2  200015779_00024_2.jpg   2168    3286     1  1418  1537  1481  1574\n",
      "3  200015779_00024_2.jpg   2168    3286     1  1839  2083  1907  2120\n",
      "4  200015779_00024_2.jpg   2168    3286     1  1848  2804  1927  2842\n",
      "Wall time: 13.7 s\n"
     ]
    }
   ],
   "source": [
    "%%time\n",
    "# anno_dfから正解の座標'filename', 'width', 'height', 'class', 'xmin', 'ymin', 'xmax', 'ymax'）一覧のcsvファイルを作成\n",
    "# train用\n",
    "xywh_train_df = prepare_anno_csv.make_xywh_tfAPI_csv(anno_df, train_img_dir, xywh_csv_path=xywh_train_csv_path, is_class_one=True)\n",
    "# validation用\n",
    "#xywh_valid_df = prepare_anno_csv.make_xywh_tfAPI_csv(anno_df, valid_img_dir, xywh_csv_path=xywh_valid_csv_path, is_class_one=True)"
   ]
  },
  {
   "cell_type": "markdown",
   "metadata": {},
   "source": [
    "### classes_text.csv とアノテーションcsvからgenerate_tfrecord.pyでtfrecordを生成\n",
    "- generate_tfrecord.py は https://github.com/EdjeElectronics/TensorFlow-Object-Detection-API-Tutorial-Train-Multiple-Objects-Windows-10 から取得\n",
    "\n",
    "\n",
    "- <font color=\"Red\">%run は毎回カーネル再起動しないと「DuplicateFlagError」（flagsがなぜか二重定義されている）がでる</font>\n",
    "\n",
    "\n",
    "- **<font color=\"Red\">下記コマンド make_tf_file.bat で実行した</font>**"
   ]
  },
  {
   "cell_type": "markdown",
   "metadata": {
    "code_folding": [],
    "scrolled": false
   },
   "source": [
    "%%time\n",
    "```\n",
    "%run -i C:\\Users\\shingo\\jupyter_notebook\\tfgpu_v1-11_work\\01_TF_API_tool_module\\tf_api_tool_module\\generate_tfrecord.py \\\n",
    "    --csv_xywh_id=PATH_TO_BE_CONFIGURED/xywh_train.csv \\\n",
    "    --csv_class_name=PATH_TO_BE_CONFIGURED/classes_text.csv \\\n",
    "    --image_dir=IMAGE_DIR/train_images \\\n",
    "    --output_path=PATH_TO_BE_CONFIGURED/train.record\n",
    "```"
   ]
  },
  {
   "cell_type": "code",
   "execution_count": 5,
   "metadata": {},
   "outputs": [],
   "source": [
    "#%%time\n",
    "#%run -i C:\\Users\\shingo\\jupyter_notebook\\tfgpu_v1-11_work\\01_TF_API_tool_module\\tf_api_tool_module\\generate_tfrecord.py \\\n",
    "#    --csv_xywh_id=PATH_TO_BE_CONFIGURED/xywh_valid.csv \\\n",
    "#    --csv_class_name=PATH_TO_BE_CONFIGURED/classes_text.csv \\\n",
    "#    --image_dir=IMAGE_DIR/validation \\\n",
    "#    --output_path=PATH_TO_BE_CONFIGURED/validation.record"
   ]
  },
  {
   "cell_type": "markdown",
   "metadata": {},
   "source": [
    "## 訓練済みモデルのダウンロード\n",
    "- https://github.com/tensorflow/models/blob/master/research/object_detection/g3doc/detection_model_zoo.md からモデルファイルダウンロード\n",
    "\n",
    "\n",
    "- D:\\work\\zoo_model\\faster_rcnn_inception_resnet_v2_atrous_coco_2018_01_28 に解凍した"
   ]
  },
  {
   "cell_type": "markdown",
   "metadata": {},
   "source": [
    "## label_map.pbtxtの作成\n",
    "- label_map.pbtxtはクラス名とidを対応づけるファイル\n",
    "- **クラス名は半角英数字でないと学習実行時にエラーになる**"
   ]
  },
  {
   "cell_type": "code",
   "execution_count": 9,
   "metadata": {},
   "outputs": [],
   "source": [
    "classes_text_df = pd.read_csv(os.path.join(output_dir, 'classes_text.csv')) \n",
    "label_map_path = os.path.join(output_dir, 'label_map.pbtxt')\n",
    "prepare_label_map.make_label_map_pbtxt(classes_text_df, label_map_path)"
   ]
  },
  {
   "cell_type": "markdown",
   "metadata": {},
   "source": [
    "## configファイルの設定\n",
    "- configファイルのテンプレートはobject_detection/samples/configsに置いてあります。\n",
    "    - https://github.com/tensorflow/models/tree/master/research/object_detection/samples/configs\n",
    "    - C:\\Users\\shingo\\Git\\models\\research\\object_detection\\samples\\configs\n",
    "    \n",
    "    \n",
    "- 使用するモデルに対応するテンプレートをダウンロードし、中身を適切に書き換えましょう。\n",
    "\n",
    "\n",
    "- **訓練済みモデル、TFrecordおよびlable_mp.pbtxtのPATH設定（ PATH_TO_BE_CONFIGURED の箇所を指定するファイルのパスに変更する）と分類クラス数、トレーニングとテストの画像数を変更すればOK**\n",
    "    - num_classes\n",
    "    - fine_tune_checkpoint\n",
    "    - input_path\n",
    "    - label_map_path\n",
    "    - num_examples\n",
    "    \n",
    "    \n",
    "\n",
    "- 注意点するべきは以下の点\n",
    "    - **フルパスで記述すること**\n",
    "    - **￥ではなく/を使うこと（winでも）**\n",
    "    - **パスは単一引用符（ '）ではなく、二重引用符（ \"）で囲む必要がある**\n",
    "    - **「fine_tune_checkpoint:」 のパスは /model.ckpt までにすること**\n",
    "    \n",
    "\n",
    "- **<font color=\"Red\">下記コマンド sed_config_file.bat で実行した</font>**"
   ]
  },
  {
   "cell_type": "markdown",
   "metadata": {},
   "source": [
    "```\n",
    "%run -i C:\\Users\\shingo\\jupyter_notebook\\tfgpu_v1-11_work\\01_TF_API_tool_module\\tf_api_tool_module\\prepare_coco_config.py \\\n",
    "        --config_path C:\\Users\\shingo\\jupyter_notebook\\tfgpu_v1-11_work\\01_TF_API_tool_module\\tf_api_train_base_files\\faster_rcnn_inception_resnet_v2_atrous_cosine_lr_coco_edit.config \\\n",
    "        --out_path PATH_TO_BE_CONFIGURED/faster_rcnn_inception_resnet_v2_atrous_cosine_lr_coco_edit_sed.config \\\n",
    "        --train_record_path PATH_TO_BE_CONFIGURED/train.record \\\n",
    "        --val_record_path PATH_TO_BE_CONFIGURED/validation.record \\\n",
    "        --label_map_pbtxt_path PATH_TO_BE_CONFIGURED/label_map.pbtxt \\\n",
    "        --eval_num_examples 0 \\\n",
    "        --num_classes 1 \\\n",
    "        --max_detections_per_class 650 \\\n",
    "        --max_total_detections 650 \\\n",
    "        --first_stage_max_number_of_boxes 650 \n",
    "```                            "
   ]
  },
  {
   "cell_type": "markdown",
   "metadata": {},
   "source": [
    "### configファイルの追加設定\n",
    "- 参考：追加設定入れたconfigファイル\n",
    "    - D:\\work\\JT_SIGNATE_Contest\\02_object_detection\\result\\object_detection_API_v4\n",
    "      faster_rcnn_inception_resnet_v2_atrous_coco_sed_v4_all_train.config\n",
    "\n",
    "\n",
    "#### メモリに関連するパラメータ（メモリ足りない時の処置）\n",
    "- **<font color=\"Red\">batch_queue_capacity, prefetch_queue_capacity, queue_capacity, min_after_dequeue　を追加する</font>**\n",
    "- 参考：\n",
    "    - https://github.com/anand-sonawane/object-detection-tf-api\n",
    "    - https://towardsdatascience.com/creating-your-own-kotlin-detector-in-tensorflow-a425efcdc68b\n",
    "    - https://stackoverflow.com/questions/45247292/ram-error-running-the-tensorflow-object-detection-api\n",
    "    - https://github.com/tensorflow/models/issues/3408\n",
    "    \n",
    "    例\n",
    "    ```\n",
    "    train_config: {\n",
    "      ... other settings  \n",
    "      gradient_clipping_by_norm: 10.0\n",
    "      batch_queue_capacity: 2\n",
    "      prefetch_queue_capacity: 2\n",
    "    }\n",
    "\n",
    "    train_input_reader: {\n",
    "      tf_record_input_reader {\n",
    "        input_path: \"/path/to/train.tfrecord\"\n",
    "      }\n",
    "      label_map_path: \"/path/to/label/map.pbtxt\"\n",
    "      queue_capacity: 100\n",
    "      min_after_dequeue: 50\n",
    "    }\n",
    "\n",
    "    eval_input_reader: {\n",
    "      tf_record_input_reader {\n",
    "        input_path: \"/path/to/eval.tfrecord\"\n",
    "      }\n",
    "      label_map_path: \"/path/to/label/map.pbtxt\"\n",
    "      shuffle: true\n",
    "      queue_capacity: 20\n",
    "      min_after_dequeue: 10\n",
    "      num_readers: 1\n",
    "    }\n",
    "    ```\n",
    "\n",
    "\n",
    "#### **<font color=\"Red\">画像水増しする場合は 以下のようにdata_augmentation_options に追加する</font>**\n",
    "- 参考: \n",
    "    - https://devtalk.nvidia.com/default/topic/1044680/tensorrt/run-ssd_mobilenetv2-tensorflow-object-detection-api-on-tensorrt/\n",
    "    - https://pasticciodiopinioni.wordpress.com/2017/09/12/data-augmentation-options-in-tensorflow-object-recognition/  \n",
    "    - https://github.com/tensorflow/models/issues/5445\n",
    "        \n",
    "    例  \n",
    "    ```\n",
    "  data_augmentation_options {\n",
    "    random_adjust_brightness {\n",
    "      max_delta: 0.10000000149\n",
    "    }\n",
    "  }\n",
    "  data_augmentation_options {\n",
    "    random_adjust_contrast {\n",
    "      min_delta: 0.899999976158\n",
    "      max_delta: 1.10000002384\n",
    "    }\n",
    "  }\n",
    "  data_augmentation_options {\n",
    "    random_adjust_hue {\n",
    "      max_delta: 0.0299999993294\n",
    "    }\n",
    "  }\n",
    "  data_augmentation_options {\n",
    "    random_adjust_saturation {\n",
    "      min_delta: 0.949999988079\n",
    "      max_delta: 1.04999995232\n",
    "    }\n",
    "  }\n",
    "  data_augmentation_options {\n",
    "    random_horizontal_flip {\n",
    "    }\n",
    "  }\n",
    "  data_augmentation_options {\n",
    "    random_vertical_flip {\n",
    "    }\n",
    "  }\n",
    "  data_augmentation_options {\n",
    "    random_rgb_to_gray {\n",
    "      probability : 0.3\n",
    "    }\n",
    "  }\n",
    "  data_augmentation_options {\n",
    "    random_image_scale {\n",
    "      min_scale_ratio: 0.3\n",
    "      max_scale_ratio: 1.5\n",
    "    }\n",
    "  }\n",
    "    ```"
   ]
  },
  {
   "cell_type": "markdown",
   "metadata": {},
   "source": [
    "## モデルのトレーニング\n",
    "- object_detection\\utils\\learning_schedules.py の168行目のコード変更必要だった\n",
    "    - list(range(num_boundaries)),#range(num_boundaries), # https://github.com/tensorflow/models/issues/3705#issuecomment-375563179 より\n",
    "    \n",
    "    \n",
    "- jupyterからは実行できなかった（できるはずだが標準出力が膨大に出るのでコマンドラインから実行すべき）\n",
    "\n",
    "\n",
    "- **引数のパスは「\\」を使うとエラー。「/」区切りでないと実行できない！！**\n",
    "\n",
    "\n",
    "- --train_dir で指定したディレクトリにチェックポイントファイルが保存される\n",
    "\n",
    "\n",
    "- **<font color=\"Red\">下記コマンド run_train.bat で実行した</font>**\n",
    "\n",
    "\n",
    "```\n",
    "python C:/Users/shingo/Git/models/research/object_detection/train.py \n",
    "--logtostderr \n",
    "--train_dir=PATH_TO_BE_CONFIGURED/log_train \n",
    "--pipeline_config_path=PATH_TO_BE_CONFIGURED/faster_rcnn_inception_resnet_v2_atrous_cosine_lr_coco_edit_sed.config \n",
    "```"
   ]
  },
  {
   "cell_type": "markdown",
   "metadata": {},
   "source": [
    "## TensorBoard起動してログ確認\n",
    "- コマンドラインで \n",
    "```\n",
    "tensorboard --logdir=D:/work/kaggle_kuzushiji-recognition/work/object_detection/20190728/log_train\n",
    "```\n",
    "- http://localhost:6006 にTensorBoard表示される\n",
    "\n",
    "\n",
    "- **<font color=\"Red\">上記コマンド run_tensorboard.bat で実行した</font>**\n",
    "\n",
    "\n",
    "- モデル評価は以下のコマンドだがCOCO APIが無いから実行できないみたい\n",
    "    - https://segmentfault.com/a/1190000018080669 より\n",
    "\n",
    "```\n",
    "python C:/Users/shingo/Git/models/research/object_detection/eval.py --logtostderr --pipeline_config_path=PATH_TO_BE_CONFIGURED/faster_rcnn_inception_resnet_v2_atrous_cosine_lr_coco_edit_sed.config --checkpoint_dir=PATH_TO_BE_CONFIGURED/log_train/ --eval_dir=PATH_TO_BE_CONFIGURED/eval\n",
    "```"
   ]
  },
  {
   "cell_type": "markdown",
   "metadata": {},
   "source": [
    "## トレーニングが終わったらinference_graphを出力(model.ckpt-以下の数字は例）\n",
    "- D:\\work\\kaggle_kuzushiji-recognition\\work\\object_detection\\20190728/inference_graph にモデル作成する\n",
    "\n",
    "\n",
    "- **<font color=\"Red\">下記コマンド deploy_trained_model.bat で実行できる</font>**"
   ]
  },
  {
   "cell_type": "markdown",
   "metadata": {},
   "source": [
    "```\n",
    "%run -i C:\\Users\\shingo\\Git\\models\\research\\object_detection\\export_inference_graph.py \\\n",
    "    --input_type image_tensor \\\n",
    "    --pipeline_config_path PATH_TO_BE_CONFIGURED/faster_rcnn_inception_resnet_v2_atrous_cosine_lr_coco_edit_sed.config \\\n",
    "    --trained_checkpoint_prefix PATH_TO_BE_CONFIGURED/log_train/model.ckpt-196725 \\\n",
    "    --output_directory PATH_TO_BE_CONFIGURED/inference_graph\n",
    "```"
   ]
  },
  {
   "cell_type": "code",
   "execution_count": null,
   "metadata": {},
   "outputs": [],
   "source": []
  }
 ],
 "metadata": {
  "hide_input": false,
  "kernelspec": {
   "display_name": "Python 3",
   "language": "python",
   "name": "python3"
  },
  "language_info": {
   "codemirror_mode": {
    "name": "ipython",
    "version": 3
   },
   "file_extension": ".py",
   "mimetype": "text/x-python",
   "name": "python",
   "nbconvert_exporter": "python",
   "pygments_lexer": "ipython3",
   "version": "3.6.8"
  },
  "toc": {
   "base_numbering": 1,
   "nav_menu": {},
   "number_sections": true,
   "sideBar": true,
   "skip_h1_title": false,
   "title_cell": "Table of Contents",
   "title_sidebar": "Contents",
   "toc_cell": false,
   "toc_position": {
    "height": "calc(100% - 180px)",
    "left": "10px",
    "top": "150px",
    "width": "165px"
   },
   "toc_section_display": true,
   "toc_window_display": false
  },
  "varInspector": {
   "cols": {
    "lenName": 16,
    "lenType": 16,
    "lenVar": 40
   },
   "kernels_config": {
    "python": {
     "delete_cmd_postfix": "",
     "delete_cmd_prefix": "del ",
     "library": "var_list.py",
     "varRefreshCmd": "print(var_dic_list())"
    },
    "r": {
     "delete_cmd_postfix": ") ",
     "delete_cmd_prefix": "rm(",
     "library": "var_list.r",
     "varRefreshCmd": "cat(var_dic_list()) "
    }
   },
   "types_to_exclude": [
    "module",
    "function",
    "builtin_function_or_method",
    "instance",
    "_Feature"
   ],
   "window_display": false
  }
 },
 "nbformat": 4,
 "nbformat_minor": 2
}
